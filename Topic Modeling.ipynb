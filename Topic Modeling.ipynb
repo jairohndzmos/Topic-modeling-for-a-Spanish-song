{
 "cells": [
  {
   "cell_type": "code",
   "execution_count": 239,
   "metadata": {},
   "outputs": [],
   "source": [
    "import requests\n",
    "import nltk\n",
    "import string\n",
    "import gensim\n",
    "import pandas as pd\n",
    "from nltk.corpus import stopwords, wordnet\n",
    "from nltk.tokenize import word_tokenize\n",
    "from nltk.tokenize import sent_tokenize\n",
    "from nltk.stem.wordnet import WordNetLemmatizer\n",
    "from nltk.probability import FreqDist\n",
    "from googletrans import Translator\n",
    "from bs4 import BeautifulSoup\n",
    "from gensim import corpora, models"
   ]
  },
  {
   "cell_type": "raw",
   "metadata": {},
   "source": [
    "URL = 'https://www.musica.com/letras.asp?letra=1305186'\n",
    "page = requests.get(URL)\n",
    "print(page.json)"
   ]
  },
  {
   "cell_type": "code",
   "execution_count": 241,
   "metadata": {},
   "outputs": [],
   "source": [
    "soup = BeautifulSoup(page.content, 'html.parser')"
   ]
  },
  {
   "cell_type": "code",
   "execution_count": 242,
   "metadata": {},
   "outputs": [
    {
     "name": "stdout",
     "output_type": "stream",
     "text": [
      "html\n",
      "\n",
      "\n",
      "<html lang=\"es\">\n",
      "<head>\n",
      "<meta charset=\"utf-8\"/>\n",
      "<link href=\"https://www.googletagmanager.com\" rel=\"preconnect\"/>\n",
      "<link href=\"https://tpc.googlesyndication.com\" rel=\"dns-prefetch\"/>\n",
      "<link href=\"https://securepubads.g.doubleclick.net\" rel=\"dns-prefetch\"/>\n",
      "<link href=\"https://pagead2.googlesyndication.com\" rel=\"preconnect\"/>\n",
      "<link href=\"https://googleads.g.doubleclick.net\" rel=\"preconnect\"/>\n",
      "<link href=\"https://securepubads.g.doubleclick.net\" rel=\"preconnect\"/>\n",
      "<link href=\"https://i.musicaimg.com\" rel=\"preconnect\"/>\n",
      "<link href=\"https://www.google-analytics.com\" rel=\"dns-prefetch\"/>\n",
      "<script>\r\n",
      "function adsss(useGooglePersonalization){\r\n",
      "  //analytics\r\n",
      "  let script_a = document.createElement('script');\r\n",
      "  script_a.src = \"https://www.googletagmanager.com/gtag/js?id=UA-5877893-4\";\r\n",
      "  script_a.async = true;\r\n",
      "  document.body.append(script_a);\r\n",
      "  window.dataLayer = window.dataLayer || [];\r\n",
      "  function gtag(){dataLayer.push(arguments);}\r\n",
      "  gtag('js', new Date());\r\n",
      "  if(useGooglePersonalization) {gtag('config', 'UA-5877893-4')} else {gtag('config', 'UA-5877893-4', { 'anonymize_ip': true })}\r\n",
      "//\r\n",
      "  let script_g = document.createElement('script');\r\n",
      "  script_g.src = \"//pagead2.googlesyndication.com/pagead/js/adsbygoogle.js\";\r\n",
      "  script_g.async = true;\r\n",
      "  document.body.append(script_g);\r\n",
      "  if(useGooglePersonalization) {(adsbygoogle=window.adsbygoogle||[]).requestNonPersonalizedAds=0;} else {(adsbygoogle=window.adsbygoogle||[]).requestNonPersonalizedAds=1;}\r\n",
      "  (adsbygoogle=window.adsbygoogle||[]).pauseAdRequests=0;\r\n",
      "\r\n",
      "//\r\n",
      "setTimeout(function(){var e=function(e){try{for(;e.parent&&e!==e.parent;)e=e.parent;return e}catch(e){return null}}(window);if(e&&e.document&&e.document.body){var t=document.createElement(\"script\");t.src=\"https://static.sunmedia.tv/integrations/172532fa-fef3-4f0a-abde-e78d9f1e4832/172532fa-fef3-4f0a-abde-e78d9f1e4832.js\",t.async=!0,e.document.body.appendChild(t)}},2000);\r\n",
      "}\r\n",
      "</script>\n",
      "<title>Manifiesto (Letra/Lyrics) - Nach | Musica.com</title>\n",
      "<meta content=\"letra de manifiesto, manifiesto letra, nach manifiesto\" name=\"keywords\"/><meta content=\"Manifiesto Letra:     Mi padre es el sol, mi madre la luna,  mi hermano es el viento y el planeta tierra mi cuna,  mis unicos hijos son las frases que me invento,  y mi mayor regalo es vivir este momento,  en el que siento que callar es un pecado capital,  en...\" name=\"description\"/><meta content=\"Manifiesto (Letra/Lyrics) - Nach\" property=\"og:title\"><meta content=\"profile\" property=\"og:type\"><meta content=\"https://www.musica.com/letras.asp?letra=1305186\" property=\"og:url\"><meta content=\"https://i.musicaimg.com/letras/240x240/nach.jpg\" property=\"og:image\"/><meta content=\"240\" property=\"og:image:width\"/><meta content=\"240\" property=\"og:image:height\"/><meta content=\"musica.com\" property=\"og:site_name\"/><meta content=\"es_ES\" property=\"og:locale\"/><meta content=\"es_LA\" property=\"og:locale:alternate\"/><meta content=\"139777552720573\" property=\"fb:app_id\"/><meta content=\"Manifiesto Letra:     Mi padre es el sol, mi madre la luna,  mi hermano es el viento y el planeta tierra mi cuna,  mis unicos hijos son las frases que me invento,  y mi mayor regalo es vivir este momento,  en el que siento que callar es un pecado capital,  en...\" property=\"og:description\"/>\n",
      "<meta content=\"index, follow\" name=\"robots\"/>\n",
      "<link href=\"https://www.musica.com/letras.asp?letra=1305186\" rel=\"canonical\">\n",
      "<link href=\"https://i.musicaimg.com/apple-touch-icon.png\" rel=\"apple-touch-icon\" sizes=\"180x180\"/>\n",
      "<link href=\"https://i.musicaimg.com/favicon-32x32.png\" rel=\"icon\" sizes=\"32x32\" type=\"image/png\"/>\n",
      "<link href=\"https://i.musicaimg.com/favicon-16x16.png\" rel=\"icon\" sizes=\"16x16\" type=\"image/png\"/>\n",
      "<link href=\"/manifest.json\" rel=\"manifest\"/>\n",
      "<link color=\"#56bae5\" href=\"https://i.musicaimg.com/safari-pinned-tab.svg\" rel=\"mask-icon\"/>\n",
      "<style>\r\n",
      ".qc-cmp-button.qc-cmp-secondary-button{border-color: #eee !important;background-color: #eee !important;}\r\n",
      "html{overflow-y:scroll}\r\n",
      "body{margin:0px;padding:0px;background-color:#f6f6f6;color:#000101}\r\n",
      "body,a,p,td{font-family:verdana;font-size:14px}\r\n",
      "article,article a,article p{font-size:16px}\r\n",
      "ul,li{user-select:none}\r\n",
      "#header{width:100%;height:50px;background-color:#56BAE5;position:fixed;z-index:997}\r\n",
      "#header .msc{width:1000px;height:50px;margin:0px auto;text-align:center}\r\n",
      "#header .head1{float:left;padding:16px 15px 10px 11px;cursor:pointer;margin-right:90px}\r\n",
      "#header .head2{float:right;padding:12px 11px 10px 5px;cursor:pointer}\r\n",
      "#header #head3{padding-top:8px}#header #head3 img{width:270px;height:32px}\r\n",
      "#header .head4{float:right;padding:12px 6px 10px 15px;cursor:pointer;margin-right:4px}\r\n",
      "#header .head4 span{font-family:arial;font-size:20px;color:#fff}\r\n",
      "#header #user{padding-top:9px}\r\n",
      "\r\n",
      "#header #user{display:none}#menu_site #user2{display:none}\r\n",
      "\r\n",
      "#header #user div {border:2px #fff solid;padding:2px 6px;border-radius:5px}\r\n",
      "article,section,aside,hgroup,nav,header,footer,figure,figcaption,main{display:block}\r\n",
      "article{padding:20px 16px 10px 26px}\r\n",
      "section,.rst3{padding:14px 0px 10px 0px}\r\n",
      "footer{text-align:center;padding-bottom:40px}footer aside{display:inline-block;margin:0px 5px 30px 0px}footer aside a{padding:6px 14px;border-radius:4px;color:#fff}footer aside a:hover{color:#eee}footer p:last-child{padding-bottom:16px}\r\n",
      "\r\n",
      "h1{font-size:2.2em;color:#000;margin:1px 0px 11px 0px;font-weight:600}\r\n",
      "\r\n",
      "h2{margin:6px 0px 10px 0px;font-size:20px;font-weight:bold;color:#cf209a}\r\n",
      ".hachedos{margin:6px 0px 10px 0px;font-size:18px;font-weight:bold;color:#cf209a}\r\n",
      "h3{margin:6px 0px;font-size:16px;font-weight:bold}\r\n",
      "p{margin:2px 0px}\r\n",
      "input,select{font-size:16px}\r\n",
      "a{text-decoration:none;color:#0b3345}\r\n",
      "a:hover{color:#2aa8de}\r\n",
      "img{vertical-align:middle}\r\n",
      ".rst,.ijk,.content{width:100%;border-spacing:0px;border:0px;background-color:#FFFFFF;border-radius:3px}\r\n",
      ".rst td{padding:0px}\r\n",
      ".rst2{width:1000px;margin:auto auto 8px auto}\r\n",
      ".content td{padding:0px}\r\n",
      "ul{list-style-type:none;padding-left:11px;padding-right:0px}\r\n",
      ".tit {font-size:16px;font-family:arial,sans-serif-light;line-height:18px}\r\n",
      ".btnaz{font-weight:bold;color:#2aa8de;border:2px #2aa8de solid;cursor:pointer;margin:3px 0px;border-radius:5px;text-decoration:none;padding:5px;font-size:14px;transition:.3s;-webkit-transition:.3s;-moz-transition:.3s;-o-transition:.3s;display:inline-block;position:relative;bottom:2px;user-select:none}\r\n",
      ".btnaz:hover{background-color:#2aa8de;color:#fff}.btnaz>img{background-color:#fff;border-radius:5px;padding:4px 5px 6px 4px}\r\n",
      "#top{height:50px}\r\n",
      ".b_sec{color:#2aa8de;border-width:1px 0 1px 1px;border-color:#2aa8de;border-style:solid;text-align:center;display:inline-block;padding:5px 34px;margin:0px;cursor:pointer}\r\n",
      ".b_sec.active{background-color:#2aa8de;color:#fff}\r\n",
      "#b_tab{display:none;padding:0px 59px}#b_tab ul{margin:0px;padding:0px}\r\n",
      "#b_result{padding:2px 0px}\r\n",
      ".buscador-sticky{position:-webkit-sticky;position:-moz-sticky;position:-o-sticky;position:-ms-sticky;position:sticky;top:50px;z-index:200}\r\n",
      "#buscar{display:none;margin:auto;position:relative;width:1000px;border-top-left-radius:0px;border-top-right-radius:0px}\r\n",
      "#buscar #all{border-bottom-left-radius:5px;border-top-left-radius:5px}\r\n",
      "#buscar #let{border-right:#2aa8de 1px solid;border-bottom-right-radius:5px;border-top-right-radius:5px}\r\n",
      "#buscar .caja{padding:8px 26px}#buscar .caja input{width:895px;margin-left:5px;height:22px;border:#2aa8de 1px solid;border-radius:5px;padding:4px 4px 4px 12px;-webkit-appearance:none}\r\n",
      "ul.letra{margin:0px 0px 4px 0px;list-style-type:none;padding-left:0px}ul.letra li{padding:10px 0px;border-bottom:#EFEFEF 1px solid;display:list-item;position:relative;cursor:pointer;min-height:60px}ul.letra li:last-child{border-bottom:0px}ul.letra li.li50{height:50px}ul.letra li.new{padding-bottom:15px}ul.letra li.new span{display:block;z-index:2;width:60px;height:12px;position:relative;bottom:7px;background-color:#cf209a;font-size:11px;font-family:arial;color:#f2fcef;-webkit-box-shadow:3px 3px 5px -2px rgba(0,0,0,0.7);-moz-box-shadow:3px 3px 5px -2px rgba(0,0,0,0.7);box-shadow:3px 3px 5px -2px rgba(0,0,0,0.7);text-align:center}.letra_cover{position:absolute;float:left}.letra_cover>img{position:relative;float:left;margin-right:10px}.letra_data{display:list-item;margin:0 0 0 70px;width:auto}.letra_data>a{font-size:16px}.letra_data>p{font-size:12px;margin-top:4px;font-style:italic;color:#999}\r\n",
      "\r\n",
      ".sombra{margin-bottom:2px;-webkit-box-shadow:3px 3px 5px -2px rgba(0,0,0,0.7);-moz-box-shadow:3px 3px 5px -2px rgba(0,0,0,0.7);box-shadow:3px 3px 5px -2px rgba(0,0,0,0.7)}\r\n",
      ".curiosidades{padding:0px;margin:10px 0}.curiosidades a{text-decoration:underline}.curiosidades p{margin-top:8px}.curiosidades li{padding:4px 10px 10px 10px;border-radius:5px;background-color:#effadb}.curiosidades li div{cursor:pointer;display:inline-block;padding:4px 8px;margin:14px 10px 0px 0px;background-color:#fbfbfb;border-radius:4px;text-align:center}.curiosidades li div:first-child{border:1px #59e556 solid}.curiosidades li div:last-child{border:1px #e24747 solid}.curiosidades li div img{margin:2px auto 7px auto}.curiosidades li div:last-child img{margin:4px auto 5px auto}.curiosidades li span{font-size:14px;font-weight:bold;display:block}.curiosidades li span:last-child{font-size:10px;font-weight:normal}.curiosidades img{max-width:520px;display:block}.curiosidades .loadmore {border-radius:3px;padding:5px 15px;margin:15px 0px;color:#000;background-color:#f6f6f6;cursor:pointer;font-weight:bold}.curiosidades .loadmore svg{float:right;width:30px;position:relative;bottom:6px}#svgcuri{fill:#2aa8de}.valorar_cancion{display:block;position:relative;width:270px;clear:both;border:1px #cf209a solid}.valorar_cancion .votar{padding:10px 12px}.valorar_cancion .votar p{margin:0px 0px 10px 0px}.valorar_cancion .num{background-color:#56BAE5;border:#555 1px solid;border-radius:3px;width:50px;text-align:center;position:relative;float:left;color:#FFF;font-size:16px;font-weight:bolder;padding:10px 8px;margin-right:5px}.valorar_cancion .votos{font-size:12px;color:#555;font-style:italic;padding-top:27px;padding-left:82px}.valorar_cancion .icon,.valorar_cancion .icon2{unicode-bidi:bidi-override;direction:rtl;float:left;padding-left:4px;margin-right:46px}.valorar_cancion .icon>span,.valorar_cancion .icon2>span{display:inline-block;position:relative;background:url(https://i.musicaimg.com/i9/estrella.png) no-repeat;background-position:0;width:23px;height:23px;margin:0;padding-left:1px}.valorar_cancion .icon>span{cursor:pointer}.valorar_cancion .icon>span:hover,.valorar_cancion .icon > span:hover ~ span{background-position:100%}.opciones img{cursor:pointer;padding:5px 10px;margin-left:12px}.opciones .opcimgmen{margin-top:4px}.letra h2 a{font-size:1em;font-weight:700}.letra .poster{position:relative;display:inline-block;width:196px;vertical-align:top}.letra .poster img{cursor:pointer}.letra .info{display:inline-block;width:350px;;vertical-align:top}.letra .info a{font-size:1.4em;color:#389ac7}.letra .info span{color:#999}#letra aside i{vertical-align:bottom;color:#999}#letra h2{display:inline-block;margin:17px auto 6px auto;font-size:26px}#letra p{line-height:1.6em;font-family:-apple-system,system-ui,BlinkMacSystemFont,Arial,Sans-Serif;font-size:unset;color:#333;margin-bottom:22px}.bnn{margin:12px 0px;height:280px;vertical-align:middle}#letra .opciones{display:inline-block;position:relative;bottom:3px}.dott{margin:12px 0px;padding-top:6px;border-top:1px #cdcdcd dotted}.grupoNav{width:1000px;height:105px;border-bottom:#cf209a 2px solid;margin-bottom:60px;vertical-align:middle}.grupoNav .foto{width:150px;float:left;padding:10px 10px 10px 35px}.grupoNav .foto div{width:135px;height:135px;overflow:hidden;background-color:#cf209a;border:#cf209a 2px solid;border-radius:70px}.grupoNav .title{position:relative;float:left;font-size:30px;padding:15px 0 6px}.grupoNav .like{display:inline-block;cursor:pointer;padding:22px 15px 6px}.grupoNav .menu{width:80%;padding:0;overflow:hidden}.grupoNav .menu div{display:inline-block;cursor:pointer;margin-bottom:2px}.grupoNav .menu div:hover,.grupoNav div.active{border-bottom:#2aa8de 2px solid;margin-bottom:0}.grupoNav .menu div:hover a,.grupoNav div.active a{color:#2aa8de;font-weight:700}.grupoNav .menu a{padding:8px 25px 6px 8px;font-size:14px;display:block;width:100%}.grupoNav .add{position:relative;float:right;top:10px;right:10px}.btn{padding:5px 15px;background-color: #f6f7f9;border:#2aa8de 1px solid;border-radius:2px;color:#2aa8de;cursor:pointer}.btn:hover{background-color:#ced0d4;color:#2aa8de;}.btn.active{background-color:#2aa8de;border:#369AC5 1px solid;border-radius:2px;font-weight:600;color:#FFFFFF}#stickyvi{position:-webkit-sticky;position:-moz-sticky;position:-o-sticky;position:-ms-sticky;position:sticky;top:52px;z-index:1;display:inline-block;width:400px;vertical-align:top}.letra_play{position:absolute;right:10px}body #playlist{display:none}body.play #playlist{display:block;min-height:250px;border:1px #ddd solid}.videoclip{width:400px;height:225px}#autoplay{position:relative;float:right;font-size:10px;color:#369AC5;font-weight:600;margin:5px}#autoplay .text{position:relative;float:left;margin-right:5px}#autoplay .switch{position:relative;display:inline-block;width:22px;height:14px}#autoplay .slider{position:absolute;cursor:pointer;top:0;left:0;right:0;bottom:0;background-color:#ccc;-webkit-transition:.4s;transition:.4s}#autoplay .slider:before{position:absolute;content:'';height:10px;width:10px;left:2px;bottom:2px;background-color:#fff;-webkit-transition:.4s;transition:.4s}#autoplay input:checked + .slider{background-color:#369AC5}#autoplay input:focus + .slider{box-shadow:0 0 1px #2196F3}#autoplay input:checked + .slider:before{-webkit-transform:translateX(8px);-ms-transform:translateX(8px);transform:translateX(8px)}#autoplay .slider.round{border-radius:24px}#autoplay .slider.round:before{border-radius:50%}\r\n",
      ".menuletras{margin:0px 11px;padding:5px 0px 1px 0px}.menuletras ul{margin:auto;padding:7px 0px 0px 0px}.menuletras li{display:inline-block;text-align:center;padding:0px 2px 0px 0px}.menuletras .btnaz{padding:5px 6px;border-width:1px}.menuletras .btnaz img{padding:0px 0px 2px 0px}.menuletras nav ul:first-child li:last-child a{width:32px;padding-bottom:4px}\r\n",
      ".ma_le_26{margin-left:26px;margin-right:26px}\r\n",
      "\r\n",
      ".dotted div{margin:14px auto;border-bottom:1px #cdcdcd dotted;min-height:74px}.dotted div:last-child{margin-bottom:0px;border-bottom:0px}.dotted a:first-child{float:left;margin-right:14px}.dotted div>p{margin-top:4px;font-size: 12px;color:#999999;font-style:italic}\r\n",
      "#avisoinferior{position:fixed;bottom:0px;width:100%;z-index:2000;background-color:#fff;height:66px;padding-left:11px;border-top: 1px solid #eee}#avisoinferior div{width:1000px;margin:auto}#avisoinferior p{margin:4px 0px 12px 0px;font-size:14px;font-weight:bold;color:#333}#avisoinferior aside{display:inline-block;margin:0px 3px 26px 0px}#avisoinferior aside a{padding:10px;border-radius:4px;color:#fff;font-size:14px}#avisoinferior aside a:hover{color:#eee}\r\n",
      "#scrollTop{display:none;position:fixed;bottom:244px;right:25px;padding:5px;width:35px;height:auto;z-index:200}#scrollButton{width:35px;z-index:9999;height:35px;padding:5px;background-color:#EDEDED;border:#CDCDCD 1px solid;border-radius:35px;text-align:center;cursor:pointer;font-size:24px;font-weight:600}#scrollButton:hover{background-color:#999;color:#FFF}\r\n",
      ".overall{position:fixed;content:\"\";top:0;left:0;width:100vw;height:100vh;background:#000;z-index:9998;opacity:.5}#menu_site,#menu_user,#buscador,#solltop{display:none}.visible{display:block!important}.site-menu{position:fixed;display:block;left:0;top:0;width:250px;will-change:transform;transition-duration:3.1s;transition-timing-function:linear;transform:translateX(0px);-webkit-transform:translateX(0px);box-shadow:5px 0 10px -5px #000;z-index:9999}.user-menu{position:fixed;display:block;right:20px;top:0;width:250px;will-change:transform;transition-duration:3.1s;transition-timing-function:linear;transform:translateX(0px);-webkit-transform:translateX(0px);box-shadow:5px 0 10px -5px #000;z-index:9999}.search-menu{position:fixed;display:block;top:0;left:0;width:50%;margin:0 25%;height:100vh;overflow-y:auto;background:#FFF;opacity:.9;will-change:transform;transition-duration:3.1s;transition-timing-function:linear;transform:translateX(0px);-webkit-transform:translateX(0px);box-shadow:5px 0 10px -5px #000;z-index:9999}#menu_wrapper{display:none}.menu_content{position:relative;width:100%;top:0;height:100vh;vertical-align:top;background-color:#FFF;overflow-x:hidden;overflow-y:auto;padding:10px}.user-menu .menu-content{right:0}.menu_content::-webkit-scrollbar{width:7px}.menu_content::-webkit-scrollbar-track{background:#f1f1f1}.menu_content::-webkit-scrollbar-thumb{background:#888}.menu_content::-webkit-scrollbar-thumb:hover{background:#555}.menu_content .close,.flags_close{position:absolute;right:0;width:40px;height:40px;color:#CDCDCD;font-weight:600;text-align:center;cursor:pointer}.menu_content .close_user{position:absolute;left:0;width:40px;height:40px;color:#CDCDCD;font-weight:600;text-align:center;cursor:pointer}\r\n",
      ".menudiv{cursor:pointer;border-bottom:1px #CDCDCD solid}\r\n",
      ".menudiv a,.menudiv p{color:#369AC5;font-size:14px;margin:16px 0px 16px 10px;display:inline-block}\r\n",
      ".menudiv img{position:relative;margin-right:5px;margin-bottom:4px}\r\n",
      ".menumusica {padding:8px 15px}\r\n",
      ".siguenos{cursor:default}.siguenos p{margin-right:14px;color:#000}\r\n",
      "ol.breadcrumb{padding:12px 2px 4px 2px;list-style:none}ol.breadcrumb li{display:inline;font-size:18px}ol.breadcrumb li+li:before{padding:3px;color:#aaa;content:\"\\00a0>\\00a0\";font-size:14px}ol.breadcrumb li a{color:#167AB5;font-size:18px;text-decoration:none}ol.breadcrumb li a:hover{color:#189a3f;text-decoration:underline}\r\n",
      ".cli{cursor:pointer}\r\n",
      "</style>\n",
      "<meta content=\"#56bae5\" name=\"msapplication-TileColor\"/>\n",
      "<meta content=\"initial-scale=1.0,user-scalable=yes\" name=\"viewport\"/>\n",
      "<meta content=\"#56bae5\" name=\"theme-color\"/>\n",
      "<script type=\"application/ld+json\">{\"@context\":\"http://schema.org/\",\"@type\":\"MusicRecording\",\"name\":\"Manifiesto\",\"url\":\"https://www.musica.com/letras.asp?letra=1305186\",\"image\":{\"@type\":\"ImageObject\",\"url\":\"https://i.musicaimg.com/letras/240x240/nach.jpg\",\"width\":\"240\",\"height\":\"240\"},\"description\":\"Manifiesto Letra:     Mi padre es el sol, mi madre la luna,  mi hermano es el viento y el planeta tierra mi cuna,  mis unicos hijos son las frases que me invento,  y mi mayor regalo es vivir este momento,  en el que siento que callar es un pecado capital,  en...\",\"aggregateRating\":{\"@type\":\"AggregateRating\",\"bestRating\":5,\"worstRating\":0,\"ratingValue\":\"5.00\",\"ratingCount\":\"2\"},\"byArtist\":{\"@context\":\"http://schema.org/\",\"@type\":\"MusicGroup\",\"name\":\"Nach\",\"url\":\"https://www.musica.com/letras.asp?letras=10116\",\"image\":{\"@type\":\"ImageObject\",\"url\":\"https://i.musicaimg.com/letras/240x240/nach.jpg\",\"width\":\"240\",\"height\":\"240\"},\"description\":\"Letras de Nach\"}}</script>\n",
      "</link></meta></meta></meta></head>\n",
      "<body>\n",
      "<header id=\"header\">\n",
      "<div class=\"msc\">\n",
      "<img alt=\"menú de musica.com\" class=\"head1\" height=\"18\" onclick=\"menu()\" onerror=\"this.onerror=null;this.src='https://i.musicaimg.com/i8/menu.png'\" src=\"https://i.musicaimg.com/i8/menu.svg\" width=\"20\"/>\n",
      "<img alt=\"buscar en musica.com\" class=\"head2\" height=\"25\" onclick=\"buscar()\" onerror=\"this.onerror=null;this.src='https://i.musicaimg.com/i8/lupa.png'\" src=\"https://i.musicaimg.com/i8/lupa.svg\" width=\"25\"/>\n",
      "<img alt=\"Socios/as\" class=\"head4\" height=\"25\" id=\"nouser\" onclick=\"login()\" src=\"https://i.musicaimg.com/i8/login-3.png\" width=\"29\"/>\n",
      "<div class=\"head4\" id=\"user\" onclick=\"usermenu()\"><aside><div><span id=\"inicial\"></span></div></aside><aside id=\"alerta\"></aside></div>\n",
      "<div id=\"head3\"><a href=\"https://www.musica.com\"><img alt=\"MUSICA.COM - Letras y Música\" src=\"https://i.musicaimg.com/id/musica.png\"/></a></div>\n",
      "</div>\n",
      "</header>\n",
      "<div id=\"top\"></div>\n",
      "<div class=\"buscador-sticky\">\n",
      "<aside class=\"ijk\" id=\"buscar\">\n",
      "<form action=\"letras.asp\" method=\"get\">\n",
      "<div class=\"caja\">\n",
      "<img alt=\"disquito\" height=\"24\" src=\"https://i.musicaimg.com/mas-musica/disquito-23.png\" width=\"23\"/>\n",
      "<input aria-label=\"t2\" autocomplete=\"off\" id=\"t2\" name=\"t2\" placeholder=\"Buscar letras, artistas, música\" type=\"text\" value=\"\"/>\n",
      "</div></form>\n",
      "<div id=\"b_tab\">\n",
      "<ul><li class=\"b_sec\" id=\"all\" onclick=\"busqueda('all')\"><span>Todo</span></li><li class=\"b_sec\" id=\"gru\" onclick=\"busqueda('gru')\"><span>Artistas</span></li><li class=\"b_sec\" id=\"let\" onclick=\"busqueda('let')\"><span>Canciones</span></li></ul>\n",
      "<div id=\"b_result\"></div>\n",
      "</div>\n",
      "</aside>\n",
      "</div>\n",
      "<aside style=\"width:970px;height:90px;margin:8px auto;text-align:center\">\n",
      "<ins class=\"adsbygoogle\" data-ad-client=\"ca-pub-1467783483224660\" data-ad-slot=\"8265313433\" style=\"display:inline-block;width:970px;height:90px\"></ins>\n",
      "<script>\r\n",
      "(adsbygoogle = window.adsbygoogle||[]).pauseAdRequests=1;\r\n",
      "(adsbygoogle = window.adsbygoogle||[]).push({});\r\n",
      "</script>\n",
      "</aside>\n",
      "<main class=\"rst rst2\" id=\"main\"><article><div><div class=\"letra\" style=\"display:inline-block;width:546px;vertical-align:top;padding-right:10px\"><div class=\"poster\"><img alt=\"Nach\" class=\"sombra\" height=\"135\" onclick=\"window.location='https://www.musica.com/letras.asp?letra=1305186'\" src=\"https://i.musicaimg.com/letras/180x135/nach.jpg\" title=\"Nach\" width=\"180\"/></div><div class=\"info\"><h1>Manifiesto<span> Letra</span></h1><p><a href=\"https://www.musica.com/letras.asp?letras=10116\">Nach</a></p></div><div id=\"letra\" style=\"text-align:left;font-size:18px\"><h2>LETRA</h2><aside class=\"opciones\"><a onclick=\"letra_editor_left();return false;\"><img alt=\"\" height=\"11\" onerror=\"this.onerror=null;this.src='https://i.musicaimg.com/im/alinear-izquierda.png'\" src=\"https://i.musicaimg.com/im/alinear-izquierda.svg\" width=\"14\"/></a><a onclick=\"letra_editor_centro();return false;\"><img alt=\"\" height=\"11\" onerror=\"this.onerror=null;this.src='https://i.musicaimg.com/im/alinear-centro.png'\" src=\"https://i.musicaimg.com/im/alinear-centro.svg\" width=\"14\"/></a><a onclick=\"fuente_mayor();return false;\"><img alt=\"\" height=\"14\" onerror=\"this.onerror=null;this.src='https://i.musicaimg.com/im/a-mas.png'\" src=\"https://i.musicaimg.com/im/a-mas.svg\" width=\"16\"/></a><a onclick=\"fuente_menor();return false;\"><img alt=\"\" class=\"opcimgmen\" height=\"12\" onerror=\"this.onerror=null;this.src='https://i.musicaimg.com/im/a-menos.png'\" src=\"https://i.musicaimg.com/im/a-menos.svg\" width=\"13\"/></a><a class=\"buttonPlay\" onclick=\"gotoVideo();return false;\"><img alt=\"\" height=\"20\" onerror=\"this.onerror=null;this.src='https://i.musicaimg.com/im/play.png'\" src=\"https://i.musicaimg.com/im/play.svg\" width=\"20\"/></a></aside><h3>Manifiesto (Letra/Lyrics)</h3><p>    Mi padre es el sol, mi madre la luna<br/> mi hermano es el viento y el planeta tierra mi cuna<br/> mis unicos hijos son las frases que me invento<br/> y mi mayor regalo es vivir este momento<br/> en el que siento que callar es un pecado capital<br/> en la capital del pecado me quieren decapitar<br/> y aunque quisiera criar a mis hijos en un cuento de hadas<br/> sé que el mundo se acaba y no les quedara nada.<br/> Seran ratas si la cloacka les maltratara<br/> la ciudad clavara su aguja y nadie aplacara<br/> el odio que les empuja, no abra nada solo brujas<br/> mientras los niños ricos viajaran en su burbuja<br/> de lujo, de arrogancia infalible<br/> yo vengo de un lugar donde decian que triunfar era imposible<br/> Nach otro juglar en la jungla jugando a ser libre<br/> Nach otro juglar jugando a juzgar al que juzga inpacible<br/> Y esos mc’s tan increibles cuando escriben<br/> no, no hacen ciencia, no describen lo que viven<br/> solo calcan actitudes de alguien que quieren ser<br/> mientras mi mente representa poder como Uri Geller<br/> capaz de ver el castigo, en la traicion de un amigo<br/> os digo que hay fuera hijos de p*** solo miran su ombligo<br/> bordes que corren sobre un borde constantemente<br/> haciendo que engorden sus cuentas corrientes<br/> poniendo su mueca mas seria e indiferente<br/> al ver que el indigente sangra su miseria en la cera de enfrente<br/> ya no me asombro de ver a los mismos<br/> revolviendo escombros, deseo llevar su orgullo a hombros<br/> luchando contra el sistema que os corrompe<br/> viendo que idiotas sin nombre solo hablan mie*** y se esconden<br/> en la calle donde niños de ojos rojos fuman verde en callejones<br/> siempre metiendose en marrones,<br/> su materia gris en blanco un futuro negro augura<br/> mientras la lluvia purpura ahoga sus ilusiones.<br/> Yo me mire al espejo con los ojos de quien me odia<br/> y me senti euforico porque todo es psicologico<br/> en este zoologico de buitres y cammellos<br/> de perros hambrientos esperando el momento de morder mi cuello<br/> pero no por ello callo, ni me rayo, ni huyo<br/> el murmullo de un listillo no me destruyo<br/> solo me instruyo en lo cierto<br/> como que la ciencia demuestra que Dios ha muerto<br/> cierto como el fuego abierto en Gaza y Cisjordania<br/> cierto como ver mi fe moviendo tu montaña sacandola de España<br/> Aqui es donde está mi reino<br/> yo tambien quiero un trono y ¿quien no?<br/> Tus hijos no van a clases porque escuchan rap<br/> no hay porque preocuparse tus hijos escuchan rap porque tienen clase<br/> hacen suyo nuestro ardor se burlan de lo snop<br/> no son robots, victimas del complot de la super pop<br/> y toda esa mie*** fashion victim<br/> niñatas que mañana mataran por hacerse un lifting<br/> Esa es la educacion que dais me desespera<br/> lo plasmo en un papel o me lo tomo con humor como Dave Chappelle<br/> chapé mas de una boca aunque callar tambien es gratis<br/> en la ciudad muchos me ven como a un iluminaty<br/> con otros nivelacion es la de un yanki y un iraki<br/> la vida es asi, y yo hasta el fin tranki<br/> tu contra (mi…) como boleros de machín, triste<br/> tu destino es el que tu elejiste<br/> Y puestos a reflexionar sobre la vida menos mal<br/> mira! mira al final es para todos igual<br/> es el ciclo vital de un hombre<br/> la muerte como cima y cumbre, y no hay milagros<br/> siento que el camino es largo<br/> con el corazon de piedra me visto y salgo<br/> cabalgo otro dia mas entre guepardos y comadrejas<br/> y aunque me diga mi vieja que no hay queja<br/> yo tambien quiero un chalet de lujo en la moraleja<br/> y conducir un cadillac pero soy feliz con este anorak panama jack<br/> sin mas hándicap que subirme a un track<br/> y escupir mis realidades<br/> para ti son debilidades para mi sensibilidades<br/> me llenan, fiel a mi lema<br/> ganar dinero del sistema haciendo musica contra el sistema<br/> Sin mas armas que mis dientes mi voz es un kalashnikov<br/> un cóctel molotov desde el altavoz potente<br/> con el liquido al ignorante, lo liquido intelectualmente<br/> la fuerza bruta me repugna se la dejo al nazi<br/> o al cani que resuelve cualquier pugna de la forma facil<br/> te queda claro yo vengo sin un plan<br/> soy un poeta hecho soldado<br/> y solo sé que la mezcla es napalm!<br/> tu sueñas con ser don juan derrochar champagne<br/> yo prefiero ver a quien no tiene y darle pan man<br/> soñador y dramaturgo, zurdo<br/> prestidigitador del sentido absurdo<br/> de la vida, la mia melancolica,<br/> dicen que unica, condenado a asumir que soy persona publica<br/> y mi rubrica en pedazos<br/> soy mas de abrazos que de autógrafos<br/> mas de parrafos que de fotografos<br/> y aunque los tortazos de la vida, este es mi elixir<br/> existir es sentir, aqui sentir es escribir<br/> y sé que el unico secreto es que no hay secretos<br/> solo respeto por el rap antes de usar un chándal ecko<br/> Yo tengo coleguis que te follan si improvisan,<br/> aunque vistan levis y camisa,<br/> conocen cada grupo, cada skit,<br/> desde antes del rap in Madrid<br/> y tú no sabes ni quien es Madlib<br/> keep it real es la premisa<br/> aunque keep it real contigo mismo quiza sea mas precisa<br/> Pisa las huellas de este nomada nada me doma<br/> si nada perdona el fallo en babilon marchare a (Sayon)<br/> aunque nadie me recuerde<br/> ni esta ciudad que muerde y devora el verde<br/> Suburbia y sus horizontes, edificios mastodontes<br/> devoran los prados, los parques, los montes<br/> y ¿que nos queda? charcos de asfalto, infartos,<br/> demasiado barullo en este trullo<br/> salto y me escabullo, huyo entre la masa anónima<br/> esos que se tragan su orgullo para despues cobrar la nómina<br/> no hay droga mas dura para mi que un escenario<br/> ni hay meteoritos que extingan al dinosaurio<br/> Me refiero al que suscribe, al que escribe<br/> al que revive cada noche en tu reproductor de audio<br/> tu ghetto blaster tras tanto mensaje gangster<br/> tanto lastre quien se fia, si al rap solo le guia<br/> la fria filosofia de vivir al dia<br/> R de revolucion, A de actitud P de poesia<br/> xenofilia esa es mi ciencia<br/> significa lo que implica amor por la diferencia<br/> amor que nos tortura porque amar es la mayor locura<br/> a no ser que se ame con locura son mis dudas que suturan<br/> porque nada duran, quisiera parar el tiempo como Hiro Nakamura<br/> pero que mas da mi arruga si mi entrega es ciega<br/> si el universo es la canica con la que alguien juega<br/> Todo nos llega en su momento y no lo entiendo<br/> tantos años invirtiendo hasta que sientes que te estas muriendo<br/> y no el mañana no es certero, etéreo, misterio, en serio sal de tu agujero<br/> yo tecleo reo en este coliseo de politiqueo<br/> rappers de perreo y tiroteos de fogeo<br/> no poseo la verdad aunque la persigo, eso creo<br/> lo importante es estar vivo de deseo<br/> carnal, espiritual da igual cada cual en su propio ritual,<br/> medita para mi es vital hecharle dinamita a cada frase<br/> para dartela, que tu se las regales al fachas de tu clase<br/> puede que mi vida nunca os interese<br/> no esta dirigida por martin scorsese<br/> pero casi voy volando entre edificios como un Yamakasi<br/> asi lo hago facil como brasil<br/> y solo ante el papel puedo eliminar tension<br/> el me entiende y no me cobra 80 euros por sesion<br/> El mensaje y no la fama es mi bagaje trepa<br/> pisame cuando subas, te cazare pa cuando bajes trepa<br/> hasta la cimas de mis sueños podras verlo<br/> mis sueños son mentiras que algun dia dejaran de serlo<br/> del verbo me llaman vástago, basta con alzar el micro al cielo<br/> y caen relampagos en timpanos, miralos<br/> somos furia sobre un bumb clap<br/> hijos de la catastrofe, apostoles de la verdad.<br/> Rap como entretenimiento que agita el pensamiento<br/> asi alimento a la generacion nintendo<br/> porque si esta es tu droga vamos yo te invito a un gramo<br/> proclamo el horror de ser furor en tu hipotálamo<br/> mientras derramo profecias,<br/> mercader de la esperanza y se abalanzan sobre mi como a un mesias<br/> pero no hay mejor profesor que el error,<br/> ni mas dulzura que el que sufre y luego cura su dolor<br/> y asi he vivido en estos tiempos líquidos, insípidos,<br/> sin tener miedo del miedo de no rapear lo típico<br/> no es anecdótico te soy sincero<br/> hago público un cuaderno con mi infierno interno para conmoveros<br/> y si este (enero) me disloca me relajo y canto<br/> Soma produce rocas y yo despues las lanzo<br/> claro que sí paso de (genesi), ron con seven up y brindo<br/> por el HIP-HOP y el homenaje que aqui rindo<br/> al lindo frenesi de la escritura<br/> lo captas almas en miniatura<br/> no son aptas pa esta asignatura<br/> y aqui nada en disparate<br/> tu no eres mc maniqui de escaparate con tu pose de magnate<br/> que pretendes si asi vendes tú ridículo<br/> aqui solo el trabajo duro y los testiculos dan titulos<br/> pobre diablo se cree un dios entre los dioses<br/> y tan solo es otro potro en el establo dando coces<br/> pides a voces gloria y no te la mereces<br/> yo asumo el drama de mi fama y vivo entre sus estrecheces<br/> no lo planee, solo volé como Tracy McGrady<br/> hise del rap mi personal brain training<br/> ejercicio mental al filo, afilo mi estilo<br/> compitiendo con la imagen del espejo en el que mino cautivo de un tictac<br/> que me atonta, mi unico habitat un compact<br/> que te voy a contar chaval que por ir de underground no eres mas original<br/> que no por ser de universal voy a sonar comercial<br/> no teneis ni p*** idea a vuestra verborrea es cínica<br/> faltandole al respeto a militantes de mi métrica<br/> aqui y en Latinoamerica en todo el planeta tierra<br/> mi rap sera mi rap sera la luz tras las tinieblas<br/> mi rap sera la luz (si!) tras las tinieblas.</p><aside class=\"bnn\">\n",
      "<ins class=\"adsbygoogle\" data-ad-client=\"ca-pub-1467783483224660\" data-ad-slot=\"9115412636\" style=\"display:inline-block;width:336px;height:280px\"></ins><script>(adsbygoogle = window.adsbygoogle||[]).pauseAdRequests=1;(adsbygoogle = window.adsbygoogle||[]).push({});</script>\n",
      "</aside><p> A todo el planeta tierra, donde sea que me escuchen<br/> en España, en Mexico, PERU, Colombia, Portugal, Venezuela<br/> Chile, Argentina, Brasil, Angola, Guinea, da igual donde esteis<br/> Bolivia, Puerto Rico, Estados Unidos, El Salvador, Panamá,<br/> Costa Rica, Ecuador, todos mis soldados latinos ahí..<br/> todos! a los que esta mie*** engancha<br/> este es el rap que purifica que la vida os mancha<br/> Nach.. Manifiesto.</p><aside><i>fuente: musica.com</i> <img alt=\"disquito - musica.com\" height=\"32\" src=\"https://i.musicaimg.com/mas-musica/disquito_d.png\" width=\"30\"/></aside></div><div class=\"dott\"><p class=\"hachedos\">Datos de Manifiesto</p><p style=\"line-height:22px\"><strong>MANIFIESTO</strong> es una canción de <a href=\"https://www.musica.com/letras.asp?letras=10116\" style=\"color:#389ac7;font-weight:bold\">Nach</a>. Agradecemos a <a href=\"letras.asp?socio=332669\" style=\"color:#18739a;text-decoration:underline\">josito</a> por haber sudido la <strong>letra de Manifiesto</strong>.</p></div><aside class=\"dott\"><p class=\"hachedos\">Puntuar Manifiesto</p><div class=\"valorar_cancion\"><div class=\"votar\"><p>¿Qué te parece esta canción?</p><div class=\"num\">5,00</div><div class=\"icon\"><span onclick=\"votar(5,1305186,10116)\"></span><span onclick=\"votar(4,1305186,10116)\"></span><span onclick=\"votar(3,1305186,10116)\"></span><span onclick=\"votar(2,1305186,10116)\"></span><span onclick=\"votar(1,1305186,10116)\"></span></div><div class=\"votos\">2 votos</div></div></div></aside><aside class=\"dott\"><nav id=\"letras\"><p class=\"hachedos\">TOP lyrics de Nach</p><ul class=\"letra\"><li onclick=\"window.location='letras.asp?letra=2215568'\" style=\"min-height:auto\"><div><a href=\"letras.asp?letra=2215568\">Letra de Tal como eres</a></div></li><li onclick=\"window.location='letras.asp?letra=8480'\" style=\"min-height:auto\"><div><a href=\"letras.asp?letra=8480\">Letra de Amor Libre</a></div></li><li onclick=\"window.location='letras.asp?letra=2174470'\" style=\"min-height:auto\"><div><a href=\"letras.asp?letra=2174470\">Letra de Lo estoy intentando</a></div></li><li onclick=\"window.location='letras.asp?letra=2311648'\" style=\"min-height:auto\"><div><a href=\"letras.asp?letra=2311648\">Letra de Quiero contarte</a></div></li><li onclick=\"window.location='letras.asp?letra=2210508'\" style=\"min-height:auto\"><div><a href=\"letras.asp?letra=2210508\">Letra de Viviendo</a></div></li><li onclick=\"window.location='letras.asp?letra=1947682'\" style=\"min-height:auto\"><div><a href=\"letras.asp?letra=1947682\">Letra de El idioma de los dioses</a></div></li><li onclick=\"window.location='letras.asp?letra=2174432'\" style=\"min-height:auto\"><div><a href=\"letras.asp?letra=2174432\">Letra de Te vi pasar</a></div></li><li onclick=\"window.location='letras.asp?letra=2387793'\" style=\"min-height:auto\"><div><a href=\"letras.asp?letra=2387793\">Letra de Éxodo</a></div></li><li onclick=\"window.location='letras.asp?letra=2210945'\" style=\"min-height:auto\"><div><a href=\"letras.asp?letra=2210945\">Letra de Abrazarte</a></div></li><li onclick=\"window.location='letras.asp?letra=1957667'\" style=\"min-height:auto\"><div><a href=\"letras.asp?letra=1957667\">Letra de Ni estabas, Ni estarás</a></div></li></ul><a class=\"btnaz\" href=\"letras.asp?letras=10116\">Más Letras de Nach</a></nav></aside><aside class=\"dott\"><p class=\"hachedos\">Sobre Nach</p><ul class=\"curiosidades\"><li class=\"loadmore\" onclick=\"curLoad(1305186,10116,0)\">Ver Curiosidades (8)<svg preserveaspectratio=\"xMidYMid meet\" viewbox=\"0 0 24 24\"><path d=\"M16.59 8.59L12 13.17 7.41 8.59 6 10l6 6 6-6z\" id=\"svgcuri\"></path></svg></li></ul></aside></div><aside id=\"stickyvi\"><div style=\"width:400px;text-align:center\"><iframe allow=\"autoplay;encrypted-media\" allowfullscreen=\"\" class=\"videoclip\" name=\"videovisor\" scrolling=\"no\" src=\"https://canal50.com/player-2020.asp?video=3A2KtOXRpOo&amp;letra=1305186&amp;version=pc\" style=\"margin:0px;border-width:0px;border:0px;overflow:hidden\"></iframe></div><div id=\"playlist\"><iframe id=\"pciframe\" name=\"pciframe\" src=\"incsmas/playlist.asp?iframe=pc&amp;ref=&amp;id=1305186\" style=\"width:100%;margin:0px;border-width:0px;height:260px\"></iframe></div><aside style=\"vertical-align:top;height:600px;padding:8px 0px\">\n",
      "<ins class=\"adsbygoogle\" data-ad-client=\"ca-pub-1467783483224660\" data-ad-slot=\"2916783834\" style=\"display:inline-block;width:300px;height:600px\"></ins><script>(adsbygoogle = window.adsbygoogle||[]).pauseAdRequests=1;(adsbygoogle = window.adsbygoogle||[]).push({});</script>\n",
      "</aside></aside></div></article></main><nav class=\"rst rst2\"><nav class=\"grupoNav\"><a class=\"add btn\" href=\"letras.asp?from=addsong&amp;addfan=10116\">+ Añadir Letra</a><div class=\"foto\"><div><a href=\"letras.asp?letras=10116\" style=\"margin-left:-22px\" title=\"Letras de Nach\"><img alt=\"Nach\" class=\"lazy sombra\" data-src=\"https://i.musicaimg.com/letras/180x135/nach.jpg\" data-srcset=\"https://i.musicaimg.com/letras/180x135/nach.jpg\" height=\"135\" src=\"https://i.musicaimg.com/i/transp.gif\" width=\"180\"/></a></div></div><div><div class=\"title\">Nach</div></div><div class=\"menu\"><div><a class=\"tab\" href=\"letras.asp?letras=10116\"><img alt=\"Letras de Nach\" class=\"lazy\" data-src=\"https://i.musicaimg.com/id/letras-de-canciones.png\" data-srcset=\"https://i.musicaimg.com/id/letras-de-canciones.png\" height=\"16\" src=\"https://i.musicaimg.com/i/transp.gif\" width=\"16\"/> Letras</a></div><div><a class=\"tab\" href=\"letras.asp?fotos=10116\"><img alt=\"Fotos de Nach\" class=\"lazy\" data-src=\"https://i.musicaimg.com/id/fotos.png\" data-srcset=\"https://i.musicaimg.com/id/fotos.png\" height=\"16\" src=\"https://i.musicaimg.com/i/transp.gif\" width=\"16\"/> Fotos</a></div><div><a class=\"tab\" href=\"letras.asp?biografia=10116\"><img alt=\"Biografía de Nach\" class=\"lazy\" data-src=\"https://i.musicaimg.com/id/biografia.png\" data-srcset=\"https://i.musicaimg.com/id/biografia.png\" height=\"16\" src=\"https://i.musicaimg.com/i/transp.gif\" width=\"16\"/> Biografía</a></div><div><a class=\"tab\" href=\"letras.asp?topmusica=10116\"><img alt=\"Ranking de Nach\" class=\"lazy\" data-src=\"https://i.musicaimg.com/id/top-musica.png\" data-srcset=\"https://i.musicaimg.com/id/top-musica.png\" height=\"16\" src=\"https://i.musicaimg.com/i/transp.gif\" width=\"16\"/> Ranking</a></div></div></nav></nav>\n",
      "<div class=\"rst rst2\">\n",
      "<div class=\"menumusica\">\n",
      "<h2 class=\"menuletras\">Letras y Música</h2>\n",
      "<div class=\"menuletras\">\n",
      "<nav>\n",
      "<ul>\n",
      "<li><a class=\"btnaz\" href=\"https://www.musica.com/letras.asp?letras=canciones\">Letras</a></li>\n",
      "<li><a class=\"btnaz\" href=\"https://www.musica.com/letras.asp?topmusica=musica\">Top Música</a></li>\n",
      "<li><a class=\"btnaz\" href=\"https://www.musica.com/letras.asp?playlist=musica\">Playlists</a></li>\n",
      "<li><a class=\"btnaz\" onclick=\"buscar()\"><img alt=\"buscador\" height=\"14\" onerror=\"this.onerror=null;this.src='https://i.musicaimg.com/i8/lupa-azul.png'\" src=\"https://i.musicaimg.com/i8/lupa-azul.svg\" width=\"14\"/></a></li>\n",
      "</ul>\n",
      "<ul>\n",
      "<li><a class=\"btnaz\" href=\"https://www.musica.com/letras.asp?g=a\">A</a></li>\n",
      "<li><a class=\"btnaz\" href=\"https://www.musica.com/letras.asp?g=b\">B</a></li>\n",
      "<li><a class=\"btnaz\" href=\"https://www.musica.com/letras.asp?g=c\">C</a></li>\n",
      "<li><a class=\"btnaz\" href=\"https://www.musica.com/letras.asp?g=d\">D</a></li>\n",
      "<li><a class=\"btnaz\" href=\"https://www.musica.com/letras.asp?g=e\">E</a></li>\n",
      "<li><a class=\"btnaz\" href=\"https://www.musica.com/letras.asp?g=f\">F</a></li>\n",
      "<li><a class=\"btnaz\" href=\"https://www.musica.com/letras.asp?g=g\">G</a></li>\n",
      "<li><a class=\"btnaz\" href=\"https://www.musica.com/letras.asp?g=h\">H</a></li>\n",
      "<li><a class=\"btnaz\" href=\"https://www.musica.com/letras.asp?g=i\">I</a></li>\n",
      "<li><a class=\"btnaz\" href=\"https://www.musica.com/letras.asp?g=j\">J</a></li>\n",
      "<li><a class=\"btnaz\" href=\"https://www.musica.com/letras.asp?g=k\">K</a></li>\n",
      "<li><a class=\"btnaz\" href=\"https://www.musica.com/letras.asp?g=l\">L</a></li>\n",
      "<li><a class=\"btnaz\" href=\"https://www.musica.com/letras.asp?g=m\">M</a></li>\n",
      "<li><a class=\"btnaz\" href=\"https://www.musica.com/letras.asp?g=n\">N</a></li>\n",
      "<li><a class=\"btnaz\" href=\"https://www.musica.com/letras.asp?g=o\">O</a></li>\n",
      "<li><a class=\"btnaz\" href=\"https://www.musica.com/letras.asp?g=p\">P</a></li>\n",
      "<li><a class=\"btnaz\" href=\"https://www.musica.com/letras.asp?g=q\">Q</a></li>\n",
      "<li><a class=\"btnaz\" href=\"https://www.musica.com/letras.asp?g=r\">R</a></li>\n",
      "<li><a class=\"btnaz\" href=\"https://www.musica.com/letras.asp?g=s\">S</a></li>\n",
      "<li><a class=\"btnaz\" href=\"https://www.musica.com/letras.asp?g=t\">T</a></li>\n",
      "<li><a class=\"btnaz\" href=\"https://www.musica.com/letras.asp?g=u\">U</a></li>\n",
      "<li><a class=\"btnaz\" href=\"https://www.musica.com/letras.asp?g=v\">V</a></li>\n",
      "<li><a class=\"btnaz\" href=\"https://www.musica.com/letras.asp?g=w\">W</a></li>\n",
      "<li><a class=\"btnaz\" href=\"https://www.musica.com/letras.asp?g=x\">X</a></li>\n",
      "<li><a class=\"btnaz\" href=\"https://www.musica.com/letras.asp?g=y\">Y</a></li>\n",
      "<li><a class=\"btnaz\" href=\"https://www.musica.com/letras.asp?g=z\">Z</a></li>\n",
      "<li><a class=\"btnaz\" href=\"https://www.musica.com/letras.asp?g=1\">#</a></li>\n",
      "</ul>\n",
      "</nav>\n",
      "</div>\n",
      "<div class=\"menuletras\">\n",
      "<h3>Más Música</h3>\n",
      "<a class=\"btnaz\" href=\"https://www.musica.com/letras.asp?juegos=musica\">Juegos</a> <a class=\"btnaz\" href=\"https://www.musica.com/letras.asp?compartir=musica\">Vídeos Virales</a> <a class=\"btnaz\" href=\"https://www.musica.com/letras.asp?articulo=musica\">Artículos</a> <a class=\"btnaz\" href=\"https://www.musica.com/letras.asp?foros=saludos\">Saludos</a>\n",
      "</div>\n",
      "<div class=\"menuletras\">\n",
      "<h3>Más Ocio</h3>\n",
      "<a class=\"btnaz\" href=\"https://www.cine.com\">Cine</a> <a class=\"btnaz\" href=\"https://www.videojuegos.com\">Videojuegos</a>\n",
      "</div>\n",
      "</div>\n",
      "</div>\n",
      "<aside style=\"width:728px;height:90px;margin:14px auto\">\n",
      "<ins class=\"adsbygoogle\" data-ad-client=\"ca-pub-1467783483224660\" data-ad-slot=\"8306093039\" style=\"display:inline-block;width:728px;height:90px\"></ins>\n",
      "<script>\r\n",
      "(adsbygoogle = window.adsbygoogle||[]).pauseAdRequests=1;\r\n",
      "(adsbygoogle = window.adsbygoogle||[]).push({});\r\n",
      "</script>\n",
      "</aside>\n",
      "<footer class=\"rst rst2\" id=\"footer\">\n",
      "<ol class=\"breadcrumb\" itemscope=\"\" itemtype=\"https://schema.org/BreadcrumbList\"><li itemprop=\"itemListElement\" itemscope=\"\" itemtype=\"https://schema.org/ListItem\"><a href=\"https://www.musica.com/\" itemprop=\"item\"><span itemprop=\"name\">Musica.com</span></a><meta content=\"1\" itemprop=\"position\"/></li><li itemprop=\"itemListElement\" itemscope=\"\" itemtype=\"https://schema.org/ListItem\"><a href=\"https://www.musica.com/letras.asp?g=n\" itemprop=\"item\"><span itemprop=\"name\">N</span></a><meta content=\"2\" itemprop=\"position\"/></li><li itemprop=\"itemListElement\" itemscope=\"\" itemtype=\"https://schema.org/ListItem\"><a href=\"https://www.musica.com/letras.asp?letras=10116\" itemprop=\"item\"><span itemprop=\"name\">Nach</span></a><meta content=\"3\" itemprop=\"position\"/></li><li itemprop=\"itemListElement\" itemscope=\"\" itemtype=\"https://schema.org/ListItem\"><a href=\"https://www.musica.com/letras.asp?letra=1305186\" itemprop=\"item\"><span itemprop=\"name\">Manifiesto</span></a><meta content=\"4\" itemprop=\"position\"/></li></ol>\n",
      "<p class=\"tit\" style=\"padding:12px 0px\">© 2020 MUSICA.COM</p>\n",
      "<p style=\"padding-bottom:16px\"><a href=\"https://www.musica.com/letras.asp?ayuda=faq\" style=\"text-decoration:underline\">\r\n",
      "Ayuda</a> | <a href=\"https://www.musica.com/letras.asp?contacto=ok\" style=\"text-decoration:underline\">\r\n",
      "Contacto</a> | <a href=\"https://www.musica.com/letras.asp?privacidad=ok\" style=\"text-decoration:underline\">Política de Privacidad y Cookies</a></p>\n",
      "<p>Las letras disponibles tienen propósitos meramente educativos</p>\n",
      "</footer>\n",
      "<nav class=\"site-menu\" id=\"menu_site\">\n",
      "<div class=\"menu_content\">\n",
      "<div class=\"close\" onclick=\"closeall('menu_site')\"><img alt=\"Cerrar\" height=\"18\" src=\"https://i.musicaimg.com/i11/close.png\" width=\"18\"/></div>\n",
      "<div class=\"menudiv\" onclick=\"window.location='https://www.musica.com'\"><a href=\"https://www.musica.com\"><img alt=\"Musica.com\" height=\"16\" onerror=\"this.onerror=null;this.src='https://i.musicaimg.com/i12/musica-s.png'\" src=\"https://i.musicaimg.com/i12/musica-s.svg\" width=\"16\"/> MUSICA.COM</a></div>\n",
      "<div class=\"menudiv\" onclick=\"window.location='https://www.musica.com/letras.asp?letras=canciones'\"><a href=\"https://www.musica.com/letras.asp?letras=canciones\"><img alt=\"Letras de Canciones\" height=\"16\" onerror=\"this.onerror=null;this.src='https://i.musicaimg.com/i12/letras-s.png'\" src=\"https://i.musicaimg.com/i12/letras-s.svg\" width=\"16\"/> Letras de Canciones</a></div>\n",
      "<div class=\"menudiv\" onclick=\"window.location='https://www.musica.com/letras.asp?letras=novedades'\"><a href=\"https://www.musica.com/letras.asp?letras=novedades\"><img alt=\"Novedades\" height=\"16\" onerror=\"this.onerror=null;this.src='https://i.musicaimg.com/i12/novedades-s.png'\" src=\"https://i.musicaimg.com/i12/novedades-s.svg\" width=\"16\"/> Novedades Musicales</a></div>\n",
      "<div class=\"menudiv\" onclick=\"window.location='https://www.musica.com/letras.asp?topmusica=musica'\"><a href=\"https://www.musica.com/letras.asp?topmusica=musica\"><img alt=\"TOP Música\" height=\"16\" onerror=\"this.onerror=null;this.src='https://i.musicaimg.com/i12/artistas-favoritos-s.png'\" src=\"https://i.musicaimg.com/i12/artistas-favoritos-s.svg\" width=\"16\"/> TOP Música</a></div>\n",
      "<div class=\"menudiv\" onclick=\"window.location='https://www.musica.com/letras.asp?juegos=musica'\"><a href=\"https://www.musica.com/letras.asp?juegos=musica\"><img alt=\"Juegos de Música\" height=\"16\" onerror=\"this.onerror=null;this.src='https://i.musicaimg.com/i12/trivial-s.png'\" src=\"https://i.musicaimg.com/i12/trivial-s.svg\" width=\"16\"/> Juegos de Música</a></div>\n",
      "<div class=\"menudiv\" onclick=\"window.location='https://www.musica.com/letras.asp?mas=musica'\"><a href=\"https://www.musica.com/letras.asp?mas=musica\"><img alt=\"Más Música\" height=\"16\" onerror=\"this.onerror=null;this.src='https://i.musicaimg.com/i12/mas-musica-s.png'\" src=\"https://i.musicaimg.com/i12/mas-musica-s.svg\" width=\"16\"/> Más Música</a></div>\n",
      "<div class=\"menudiv\" id=\"user2\" onclick=\"window.location='https://www.musica.com/letras.asp?from=login'\"><a href=\"https://www.musica.com/letras.asp?from=login\"><img alt=\"Socios/as\" height=\"16\" onerror=\"this.onerror=null;this.src='https://i.musicaimg.com/i12/login-s.png'\" src=\"https://i.musicaimg.com/i12/login-s.svg\" width=\"16\"/> Socios/as</a></div>\n",
      "<div class=\"menudiv\" id=\"nouser2\" onclick=\"closeall('menu_site');login()\"><a onclick=\"closeall('menu_site');login()\"><img alt=\"Socios/as\" height=\"16\" onerror=\"this.onerror=null;this.src='https://i.musicaimg.com/i12/login-s.png'\" src=\"https://i.musicaimg.com/i12/login-s.svg\" width=\"16\"/> Socios/as</a></div>\n",
      "<div class=\"menudiv siguenos\"><p>Síguenos</p>\n",
      "<a href=\"https://www.facebook.com/musicacom/\" rel=\"nofollow noopener noreferrer\" target=\"_blank\"><img alt=\"facebook\" height=\"16\" onerror=\"this.onerror=null;this.src='https://i.musicaimg.com/i12/facebook-s.png'\" src=\"https://i.musicaimg.com/i12/facebook-s.svg\" width=\"16\"/></a>\n",
      "<a href=\"https://twitter.com/musicapuntocom\" rel=\"nofollow noopener noreferrer\" target=\"_blank\"><img alt=\"twitter\" height=\"16\" onerror=\"this.onerror=null;this.src='https://i.musicaimg.com/i12/twitter-s.png'\" src=\"https://i.musicaimg.com/i12/twitter-s.svg\" width=\"16\"/></a>\n",
      "</div>\n",
      "<div></div>\n",
      "</div>\n",
      "</nav>\n",
      "<aside class=\"user-menu\" id=\"menu_user\">\n",
      "<div class=\"menu_content\" id=\"menu_content\">\n",
      "</div>\n",
      "</aside>\n",
      "<aside id=\"avisoinferior\">\n",
      "<div>\n",
      "<p>Compartir esta letra en...</p>\n",
      "<aside><a href=\"https://www.facebook.com/sharer.php?u=https://www.musica.com/letras.asp?letra=1305186&amp;ref=fbl\" rel=\"nofollow noopener noreferrer\" style=\"background-color:#3762A7\" target=\"_blank\">Facebook</a></aside>\n",
      "<aside><a href=\"https://twitter.com/share?url=https%3A%2F%2Fwww.musica.com%2Fletras.asp%3Fletra%3D1305186%26ref%3Dtwl&amp;text=\" rel=\"nofollow noopener noreferrer\" style=\"background-color:#0099D5\" target=\"_blank\">Twitter</a></aside>\n",
      "</div></aside>\n",
      "<aside id=\"scrollTop\">\n",
      "<div>\n",
      "<a class=\"buttonPlay\" href=\"#\" onclick=\"gotoVideo();return false;\"><img alt=\"Ver video\" height=\"45\" onerror=\"this.onerror=null;this.src='https://i.musicaimg.com/im/play.png'\" src=\"https://i.musicaimg.com/im/play.svg\" style=\"cursor:pointer;border:#CDCDCD 1px solid;border-radius:35px;margin-bottom:5px;opacity:1\" width=\"45\"/></a>\n",
      "</div>\n",
      "<div id=\"scrollButton\" onclick=\"scrolltoTop()\"><img alt=\"ir a arriba\" src=\"https://i.musicaimg.com/i9/scrolltop.png\"/></div>\n",
      "</aside>\n",
      "<script>window.addEventListener(\"scroll\",function(){var o=window.pageYOffset||document.body.scrollTop,e=document.getElementById(\"scrollTop\");e.style.display=300<o?\"block\":\"none\"});</script>\n",
      "<script>document.getElementById(\"t2\").addEventListener('focus',function(){busqueda();document.querySelector(\".buscador-sticky\").classList.remove(\"buscador-sticky\");window.scrollTo(0,0);});document.getElementById(\"t2\").addEventListener('keyup',function(){busqueda();});document.getElementById(\"t2\").addEventListener('paste',function(){searchmus();});</script><script>function menu(){overall(\"menu_site\"),document.getElementById(\"menu_site\").classList.toggle(\"visible\")}function usermenu(){overall(\"menu_user\"),document.getElementById(\"menu_user\").classList.toggle(\"visible\")}function overall(e){var t=document.createElement(\"div\");t.className=\"overall\",t.setAttribute(\"id\",\"overall\"),t.setAttribute(\"onclick\",\"closeall('\"+e+\"')\"),document.body.appendChild(t),document.documentElement.style.overflow=\"hidden\"}function closeall(e){document.documentElement.style.overflow=\"auto\",document.getElementById(e).classList.remove(\"visible\"),document.body.removeChild(document.getElementById(\"overall\"))}</script><script>function buscar(){document.getElementById(\"buscar\").style.display=\"block\",document.getElementById(\"t2\").focus(),window.scrollTo(0,0)}function busqueda(t){t2=document.getElementById(\"t2\"),res=document.getElementById(\"b_result\"),document.getElementById(\"b_tab\").style.display=\"block\",0==ini&&(t2.focus(),ini=1),t||(t=last_sec||\"all\");for(var e=document.getElementsByClassName(\"b_sec\"),s=0;s<e.length;s++)e[s].style.backgroundColor=\"#FFFFFF\",e[s].childNodes[0].style.color=\"#2aa8de\";return document.getElementById(t).style.backgroundColor=\"#2aa8de\",document.getElementById(t).childNodes[0].style.color=\"#FFFFFF\",(t2.placeholder=\"gru\"==t?\"Buscar artistas\":\"let\"==t?\"Buscar canciones\":\"Buscar letras, artistas, música\"),clearTimeout(typingTimer),last_sec=t,typingTimer=setTimeout(function(){searchmus(t)},120),!0}function searchmus(t){t||(t=last_sec||\"all\"),setTimeout(function(){str=document.getElementById(\"t2\").value,window.XMLHttpRequest?xmlhttp=new XMLHttpRequest:xmlhttp=new ActiveXObject(\"Microsoft.XMLHTTP\"),xmlhttp.onreadystatechange=function(){4==xmlhttp.readyState&&200==xmlhttp.status&&\"\"!=xmlhttp.responseText&&(res.innerHTML=xmlhttp.responseText)},xmlhttp.open(\"GET\",\"incsmas/buscamov.asp?q=\"+str+\"&t=\"+t,!0),xmlhttp.send()},4)}var last,last_sec,typingTimer,ini=0;function scrolltoTop(){var o=document.body.scrollTop+document.documentElement.scrollTop,e=o/50;if(100<o)var l=setInterval(function(){(o-=e)<e&&(o=0,clearInterval(l)),document.body.scrollTop=o,document.documentElement.scrollTop=o},1)};</script><script>function curVote(idcuriosidad,grupo,nota){var xhttp = new XMLHttpRequest();xhttp.onreadystatechange = function() {if (this.readyState == 4 && this.status == 200) {document.querySelector('.cur_vote'+idcuriosidad).innerHTML='';document.querySelector('.cur_vote'+idcuriosidad).innerHTML=this.responseText;}};xhttp.open(\"GET\", \"incsmas/curiosidades_vote.asp?idcuriosidad=\"+idcuriosidad+\"&grupo=\"+grupo+\"&nota=\"+nota, true);xhttp.send();}function curLoad(letra,grupo,def){var xhttp = new XMLHttpRequest();xhttp.onreadystatechange = function() {if (this.readyState == 4 && this.status == 200) {var loadmore = document.querySelector('.curiosidades .loadmore');loadmore.parentNode.removeChild(loadmore);document.querySelector('.curiosidades').innerHTML += this.responseText;}};xhttp.open(\"GET\", \"incsmas/curiosidades.asp?letra=\"+letra+\"&grupo=\"+grupo+\"&def=\"+def, true);xhttp.send();}function votar(t,e,n){document.querySelector(\".icon\").innerHTML='';var a=new XMLHttpRequest;a.onreadystatechange=function(){4==this.readyState&&200==this.status&&(document.querySelector(\".votar\").innerHTML=this.responseText)},a.open(\"GET\",\"incsmas/valorar_cancion.asp?nota=\"+t+\"&letraid=\"+e+\"&grupoid=\"+n,!0),a.send()}function letra_editor_centro(){document.querySelector('#letra').style.textAlign='center';document.querySelector('#letra .opciones').style.display='block';document.cookie=\"alin=center;max-age=31536000;path=/\";}function letra_editor_left(){document.querySelector('#letra').style.textAlign='left';document.querySelector('#letra .opciones').style.display='inline-block';document.cookie=\"alin=left;max-age=31536000;path=/\";}function fuente_mayor(){nsize=document.querySelector('#letra').style.fontSize.replace('px','');nsize=(parseInt(nsize)+2);if(nsize<=24){document.querySelector('#letra').style.fontSize=nsize+\"px\";document.cookie=\"fuen=\"+nsize+\";max-age=31536000;path=/\";}}function fuente_menor(){nsize=document.querySelector('#letra').style.fontSize.replace('px','');nsize=(parseInt(nsize)-2);if(nsize>=12){document.querySelector('#letra').style.fontSize=nsize+\"px\";document.cookie=\"fuen=\"+nsize+\";max-age=31536000;path=/\";}}var musRedir=0;function videoInit(){window.addEventListener?window.addEventListener(\"message\",OnMessage,!1):window.attachEvent&&window.attachEvent(\"onmessage\",OnMessage)}function OnMessage(e){if(e.data)if(\"videoStop\"==e.data){plays=document.querySelectorAll(\".buttonPlay\");for(var t=0;t<plays.length;t++)plays[t].querySelector(\"img\").src=\"https://i.musicaimg.com/im/play.svg\",plays[t].querySelector(\"img\").setAttribute(\"onerror\",\"this.onerror=null;this.src='https://i.musicaimg.com/im/play.png'\")}else if(\"videoPlay\"==e.data){document.body.classList.add(\"play\"),plays=document.querySelectorAll(\".buttonPlay\");for(t=0;t<plays.length;t++)plays[t].querySelector(\"img\").src=\"https://i.musicaimg.com/im/pause.svg\",plays[t].querySelector(\"img\").setAttribute(\"onerror\",\"this.onerror=null;this.src='https://i.musicaimg.com/im/pause.png'\")}else\"videoEnd\"==e.data?1==document.querySelector(\"#pciframe\").contentWindow.document.querySelector(\"#ap\").checked&&0==musRedir&&(nextid=document.querySelector(\"#pciframe\").contentWindow.document.querySelector(\".playlist\").firstElementChild.dataset.id,nextid&&(window.location=\"https://www.musica.com/letras.asp?letra=\"+nextid+\"&ref=playlist\",musRedir=1)):0<=e.data.toString().indexOf(\"autoplay\")&&(newAp=event.data,newAp=newAp.split(\":\"),newAp=newAp[1],0==newAp?document.cookie=\"autoplay=;max-age=0;path=/;domain=.musica.com\":document.cookie=\"autoplay=ok;max-age=2592000;path=/;domain=.musica.com\")}function gotoVideo(){document.querySelector(\".videoclip\").contentWindow.postMessage(\"playVideo\",\"*\")}videoInit();function autoplay(){setTimeout(function(){0==document.getElementById(\"ap\").checked?(document.cookie=\"autoplay=;max-age=0;path=/;domain=.musica.com\",document.querySelector(\".videoclip\").contentWindow.postMessage(\"autoplay:0\",\"*\")):(document.cookie=\"autoplay=ok;max-age=2592000;path=/;domain=.musica.com\",document.querySelector(\".videoclip\").contentWindow.postMessage(\"autoplay:1\",\"*\"))},300)}</script><script>function lazyLoad(){var t=document.querySelectorAll(\"img.lazy\"),a=!1;!1===a&&(a=!0,setTimeout(function(){for(var e=0;e<=t.length-1;e++)lazyImage=t[e],lazyImage.getBoundingClientRect().top<=window.innerHeight&&0<=lazyImage.getBoundingClientRect().bottom&&\"none\"!==getComputedStyle(lazyImage).display&&(lazyImage.src=lazyImage.dataset.src,lazyImage.srcset=lazyImage.dataset.srcset,lazyImage.classList.remove(\"lazy\"),0===t.length&&(document.removeEventListener(\"scroll\",lazyLoad),window.removeEventListener(\"resize\",lazyLoad))),a=!1},10))}document.addEventListener(\"readystatechange\",function(){\"interactive\"==document.readyState&&lazyLoad()}),document.addEventListener(\"scroll\",function(){lazyLoad()}),window.addEventListener(\"resize\",function(){lazyLoad()});</script>\n",
      "<script>function login(){var loginScript=document.createElement('script');loginScript.src='login/login.js?v='+Math.random();document.body.appendChild(loginScript)}</script>\n",
      "<script>window.onload=adsss(true);</script>\n",
      "</body></html>\n"
     ]
    }
   ],
   "source": [
    "for i in soup:\n",
    "    print(i)"
   ]
  },
  {
   "cell_type": "code",
   "execution_count": 243,
   "metadata": {},
   "outputs": [],
   "source": [
    "p_l = []\n",
    "for p in soup.find_all('p'):\n",
    "    p_l.append(p)\n",
    "    \n",
    "raw_song = list(p_l[1])\n",
    "filtered_song = []\n",
    "for j in raw_song:\n",
    "    if ('p***' in j):\n",
    "        filtered_song.append(str(j).replace('p***', 'puta'))\n",
    "        if ('mie***' in j):\n",
    "            filtered_song.append(str(j).replace('mie***', 'mierda'))\n",
    "        else: continue\n",
    "    elif ('mie***' in j):\n",
    "        filtered_song.append(str(j).replace('mie***', 'mierda'))\n",
    "        if ('p***' in j):\n",
    "            filtered_song.append(str(j).replace('p***', 'puta'))\n",
    "        else: continue\n",
    "    else:\n",
    "        filtered_song.append(str(j))  \n",
    "    \n",
    "filtered_song = filtered_song[::2]"
   ]
  },
  {
   "cell_type": "code",
   "execution_count": 244,
   "metadata": {},
   "outputs": [
    {
     "data": {
      "text/plain": [
       "['    Mi padre es el sol, mi madre la luna',\n",
       " ' mi hermano es el viento y el planeta tierra mi cuna',\n",
       " ' mis unicos hijos son las frases que me invento',\n",
       " ' y mi mayor regalo es vivir este momento',\n",
       " ' en el que siento que callar es un pecado capital']"
      ]
     },
     "execution_count": 244,
     "metadata": {},
     "output_type": "execute_result"
    }
   ],
   "source": [
    "filtered_song[0:5]"
   ]
  },
  {
   "cell_type": "code",
   "execution_count": 245,
   "metadata": {},
   "outputs": [],
   "source": [
    "translator = Translator()\n",
    "translate_song = []\n",
    "for i in translator.translate(filtered_song):\n",
    "    translate_song.append(i.text)"
   ]
  },
  {
   "cell_type": "code",
   "execution_count": 246,
   "metadata": {},
   "outputs": [
    {
     "data": {
      "text/plain": [
       "['My father is the sun, the moon my mother',\n",
       " 'my brother is the wind and planet earth my crib',\n",
       " 'my only children are the phrases that invented me',\n",
       " 'and my greatest gift is to live this time',\n",
       " 'in which I feel that silence is a cardinal sin']"
      ]
     },
     "execution_count": 246,
     "metadata": {},
     "output_type": "execute_result"
    }
   ],
   "source": [
    "translate_song[0:5]"
   ]
  },
  {
   "cell_type": "code",
   "execution_count": 247,
   "metadata": {},
   "outputs": [],
   "source": [
    "word_tokenize = word_tokenize(str(translate_song).lower())"
   ]
  },
  {
   "cell_type": "code",
   "execution_count": 248,
   "metadata": {},
   "outputs": [],
   "source": [
    "stop_words = stopwords.words('english')\n",
    "filtered_words = [x for x in word_tokenize if x not in stop_words +list(string.punctuation)+['``',\"''\"]]"
   ]
  },
  {
   "cell_type": "code",
   "execution_count": 249,
   "metadata": {},
   "outputs": [],
   "source": [
    "for i, word in enumerate(filtered_words):\n",
    "    for char in word:\n",
    "        if char == \"'\":\n",
    "            word = word.replace(\"'\",'')\n",
    "            filtered_words[i] = word\n",
    "        else:\n",
    "            filtered_words[i] = word"
   ]
  },
  {
   "cell_type": "code",
   "execution_count": 252,
   "metadata": {},
   "outputs": [
    {
     "data": {
      "text/plain": [
       "[('rap', 10),\n",
       " ('children', 6),\n",
       " ('life', 6),\n",
       " ('know', 5),\n",
       " ('nothing', 5),\n",
       " ('see', 5),\n",
       " ('go', 5),\n",
       " ('want', 4),\n",
       " ('another', 4),\n",
       " ('look', 4),\n",
       " ('like', 4),\n",
       " ('also', 4),\n",
       " ('give', 4),\n",
       " ('although', 4),\n",
       " ('love', 4),\n",
       " ('time', 3),\n",
       " ('feel', 3),\n",
       " ('city', 3),\n",
       " ('science', 3),\n",
       " ('tell', 3)]"
      ]
     },
     "execution_count": 252,
     "metadata": {},
     "output_type": "execute_result"
    }
   ],
   "source": [
    "FreqDist([x for x in filtered_words if not x in stop_words]).most_common(20)"
   ]
  },
  {
   "cell_type": "code",
   "execution_count": 253,
   "metadata": {},
   "outputs": [],
   "source": [
    "translate_song = pd.DataFrame({'Sentences': translate_song})"
   ]
  },
  {
   "cell_type": "code",
   "execution_count": 254,
   "metadata": {},
   "outputs": [],
   "source": [
    "def get_wordnet_pos(word):\n",
    "    tag = nltk.pos_tag([word])[0][1][0].upper()\n",
    "    tag_dict = {\"J\": wordnet.ADJ,\n",
    "                \"N\": wordnet.NOUN,\n",
    "                \"V\": wordnet.VERB,\n",
    "                \"R\": wordnet.ADV}\n",
    "    \n",
    "    return tag_dict.get(tag, wordnet.NOUN)"
   ]
  },
  {
   "cell_type": "code",
   "execution_count": 255,
   "metadata": {},
   "outputs": [],
   "source": [
    "def preprocess(translate_song):\n",
    "    lem = WordNetLemmatizer()\n",
    "    results = []\n",
    "    for token in gensim.utils.simple_preprocess(translate_song):\n",
    "        if token not in list(gensim.parsing.preprocessing.STOPWORDS) +list(string.punctuation):\n",
    "            results.append(lem.lemmatize(token, get_wordnet_pos(token)))      \n",
    "    \n",
    "    return results"
   ]
  },
  {
   "cell_type": "code",
   "execution_count": 256,
   "metadata": {},
   "outputs": [],
   "source": [
    "preprocess_sentences = translate_song['Sentences'].map(preprocess)"
   ]
  },
  {
   "cell_type": "code",
   "execution_count": 257,
   "metadata": {},
   "outputs": [
    {
     "data": {
      "text/plain": [
       "0             [father, sun, moon, mother]\n",
       "1    [brother, wind, planet, earth, crib]\n",
       "2                 [child, phrase, invent]\n",
       "3               [great, gift, live, time]\n",
       "4          [feel, silence, cardinal, sin]\n",
       "Name: Sentences, dtype: object"
      ]
     },
     "execution_count": 257,
     "metadata": {},
     "output_type": "execute_result"
    }
   ],
   "source": [
    "preprocess_sentences[0:5]"
   ]
  },
  {
   "cell_type": "code",
   "execution_count": 258,
   "metadata": {},
   "outputs": [],
   "source": [
    "dictionary = gensim.corpora.Dictionary(preprocess_sentences)\n",
    "dictionary.filter_extremes(no_below=3)\n",
    "\n",
    "corpus = [dictionary.doc2bow(doc) for doc in preprocess_sentences]"
   ]
  },
  {
   "cell_type": "code",
   "execution_count": 259,
   "metadata": {},
   "outputs": [],
   "source": [
    "tfidf = models.TfidfModel(corpus)\n",
    "corpus_tfidf = tfidf[corpus]"
   ]
  },
  {
   "cell_type": "code",
   "execution_count": 265,
   "metadata": {},
   "outputs": [
    {
     "name": "stdout",
     "output_type": "stream",
     "text": [
      "Topic: 0 \n",
      "Words: 0.196*\"life\" + 0.110*\"time\" + 0.109*\"play\" + 0.093*\"kid\" + 0.092*\"live\" + 0.091*\"write\" + 0.089*\"look\" + 0.075*\"end\" + 0.012*\"tell\" + 0.012*\"come\"\n",
      "\n",
      "Topic: 1 \n",
      "Words: 0.164*\"want\" + 0.142*\"child\" + 0.135*\"know\" + 0.118*\"like\" + 0.091*\"love\" + 0.083*\"come\" + 0.077*\"fuck\" + 0.069*\"tell\" + 0.010*\"look\" + 0.010*\"end\"\n",
      "\n",
      "Topic: 2 \n",
      "Words: 0.327*\"rap\" + 0.144*\"feel\" + 0.114*\"city\" + 0.114*\"science\" + 0.114*\"dream\" + 0.012*\"write\" + 0.012*\"kid\" + 0.012*\"child\" + 0.012*\"come\" + 0.012*\"tell\"\n",
      "\n"
     ]
    }
   ],
   "source": [
    "ida_model = gensim.models.LdaMulticore(corpus_tfidf, num_topics = 3, id2word=dictionary, passes=100)\n",
    "for idx, topic in ida_model.print_topics(-1): \n",
    "    print('Topic: {} \\nWords: {}\\n'.format(idx, topic))"
   ]
  }
 ],
 "metadata": {
  "kernelspec": {
   "display_name": "Python 3",
   "language": "python",
   "name": "python3"
  },
  "language_info": {
   "codemirror_mode": {
    "name": "ipython",
    "version": 3
   },
   "file_extension": ".py",
   "mimetype": "text/x-python",
   "name": "python",
   "nbconvert_exporter": "python",
   "pygments_lexer": "ipython3",
   "version": "3.7.3"
  }
 },
 "nbformat": 4,
 "nbformat_minor": 2
}
